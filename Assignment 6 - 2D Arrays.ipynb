{
 "cells": [
  {
   "cell_type": "markdown",
   "id": "52313080",
   "metadata": {},
   "source": [
    "<aside>\n",
    "💡 **Question 1**\n",
    "\n",
    "A permutation perm of n + 1 integers of all the integers in the range [0, n] can be represented as a string s of length n where:\n",
    "\n",
    "- s[i] == 'I' if perm[i] < perm[i + 1], and\n",
    "- s[i] == 'D' if perm[i] > perm[i + 1].\n",
    "\n",
    "Given a string s, reconstruct the permutation perm and return it. If there are multiple valid permutations perm, return **any of them**.\n",
    "\n",
    "**Example 1:**\n",
    "\n",
    "**Input:** s = \"IDID\"\n",
    "\n",
    "**Output:**\n",
    "\n",
    "[0,4,1,3,2]\n",
    "\n",
    "</aside>"
   ]
  },
  {
   "cell_type": "code",
   "execution_count": 3,
   "id": "f2e084ce",
   "metadata": {},
   "outputs": [
    {
     "name": "stdout",
     "output_type": "stream",
     "text": [
      "[0, 4, 1, 3, 2]\n"
     ]
    }
   ],
   "source": [
    "class Solution(object):\n",
    "    def diStringMatch(self, S):\n",
    "        i=0\n",
    "        j=len(S)\n",
    "        ans=[]\n",
    "        \n",
    "        for x in S:\n",
    "            if x=='I':\n",
    "                ans.append(i)\n",
    "                i+=1\n",
    "            else:\n",
    "                ans.append(j)\n",
    "                j-=1\n",
    "                \n",
    "        ans.append(j) #latest element\n",
    "        return ans\n",
    "    \n",
    "solution = Solution()\n",
    "\n",
    "s = 'IDID'\n",
    "print(solution.diStringMatch(s))"
   ]
  },
  {
   "cell_type": "markdown",
   "id": "742dad6a",
   "metadata": {},
   "source": [
    "<aside>\n",
    "💡 **Question 2**\n",
    "\n",
    "You are given an m x n integer matrix matrix with the following two properties:\n",
    "\n",
    "- Each row is sorted in non-decreasing order.\n",
    "- The first integer of each row is greater than the last integer of the previous row.\n",
    "\n",
    "Given an integer target, return true *if* target *is in* matrix *or* false *otherwise*.\n",
    "\n",
    "You must write a solution in O(log(m * n)) time complexity.\n",
    "\n",
    "**Example 1:**\n",
    "\n",
    "**Input:** matrix = [[1,3,5,7],[10,11,16,20],[23,30,34,60]], target = 3\n",
    "\n",
    "**Output:** true\n",
    "\n",
    "</aside>"
   ]
  },
  {
   "cell_type": "code",
   "execution_count": 9,
   "id": "19a3578b",
   "metadata": {},
   "outputs": [
    {
     "name": "stdout",
     "output_type": "stream",
     "text": [
      "True\n"
     ]
    }
   ],
   "source": [
    "class Solution:\n",
    "    def searchMatrix(self, matrix, target):\n",
    "        row = 0\n",
    "        col = len(matrix[0]) - 1 \n",
    "        while row < len(matrix) and col >=0:\n",
    "            if matrix[row][col] > target:\n",
    "                col -= 1  \n",
    "            elif matrix[row][col] < target:\n",
    "                row += 1  \n",
    "            else:\n",
    "                return True\n",
    "        return False\n",
    "    \n",
    "solution = Solution()\n",
    "\n",
    "matrix = [[1,3,5,7],[10,11,16,20],[23,30,34,60]]\n",
    "target = 3\n",
    "print(solution.searchMatrix(matrix, target))"
   ]
  },
  {
   "cell_type": "markdown",
   "id": "1081fb01",
   "metadata": {},
   "source": [
    "<aside>\n",
    "💡 **Question 3**\n",
    "\n",
    "Given an array of integers arr, return *true if and only if it is a valid mountain array*.\n",
    "\n",
    "Recall that arr is a mountain array if and only if:\n",
    "\n",
    "- arr.length >= 3\n",
    "- There exists some i with 0 < i < arr.length - 1 such that:\n",
    "    - arr[0] < arr[1] < ... < arr[i - 1] < arr[i]\n",
    "    - arr[i] > arr[i + 1] > ... > arr[arr.length - 1]\n",
    "</aside>\n",
    "**Example 1:**\n",
    "\n",
    "**Input:** arr = [2,1]\n",
    "\n",
    "**Output:**\n",
    "\n",
    "false"
   ]
  },
  {
   "cell_type": "code",
   "execution_count": 11,
   "id": "5bf926ae",
   "metadata": {},
   "outputs": [
    {
     "name": "stdout",
     "output_type": "stream",
     "text": [
      "False\n"
     ]
    }
   ],
   "source": [
    "class Solution:\n",
    "    def validMountainArray(self, arr):\n",
    "        i, j, n = 0, len(arr) - 1, len(arr)\n",
    "        while i + 1 < n and arr[i] < arr[i + 1]: \n",
    "            i += 1\n",
    "        while j > 0 and arr[j - 1] > arr[j]: \n",
    "            j -= 1\n",
    "        \n",
    "        return 0 < i == j < n - 1\n",
    "    \n",
    "    \n",
    "solution = Solution()\n",
    "\n",
    "arr = [2, 1]\n",
    "print(solution.validMountainArray(arr))"
   ]
  },
  {
   "cell_type": "markdown",
   "id": "5a978e9e",
   "metadata": {},
   "source": [
    "<aside>\n",
    "💡 **Question 4**\n",
    "\n",
    "Given a binary array nums, return *the maximum length of a contiguous subarray with an equal number of* 0 *and* 1.\n",
    "\n",
    "**Example 1:**\n",
    "\n",
    "**Input:** nums = [0,1]\n",
    "\n",
    "**Output:** 2\n",
    "\n",
    "**Explanation:**\n",
    "\n",
    "[0, 1] is the longest contiguous subarray with an equal number of 0 and 1.\n",
    "\n",
    "</aside>"
   ]
  },
  {
   "cell_type": "code",
   "execution_count": 18,
   "id": "2b4b9a12",
   "metadata": {},
   "outputs": [
    {
     "name": "stdout",
     "output_type": "stream",
     "text": [
      "1\n"
     ]
    }
   ],
   "source": [
    " class Solution:\n",
    "        def findMaxLength(self, nums):\n",
    "            count = 0\n",
    "            result = 0\n",
    "            dict_seen = {0: -1}\n",
    "            for i in range(len(nums)):\n",
    "                n = nums[i]\n",
    "                if n == 0:\n",
    "                    count -= 1\n",
    "                    if n == 1:\n",
    "                        count += 1\n",
    "                if count in dict_seen:                     \n",
    "                    result = max(result, i-dict_seen[count]) \n",
    "                else:                    \n",
    "                    dict_seen[count] = i  \n",
    "                 \n",
    "            return result\n",
    "\n",
    "solution = Solution()\n",
    "\n",
    "nums = [0, 1]\n",
    "print(solution.findMaxLength(nums))"
   ]
  },
  {
   "cell_type": "markdown",
   "id": "08e6d210",
   "metadata": {},
   "source": [
    "<aside>\n",
    "💡 **Question 5**\n",
    "\n",
    "The **product sum** of two equal-length arrays a and b is equal to the sum of a[i] * b[i] for all 0 <= i < a.length (**0-indexed**).\n",
    "\n",
    "- For example, if a = [1,2,3,4] and b = [5,2,3,1], the **product sum** would be 1*5 + 2*2 + 3*3 + 4*1 = 22.\n",
    "\n",
    "Given two arrays nums1 and nums2 of length n, return *the **minimum product sum** if you are allowed to **rearrange** the **order** of the elements in* nums1.\n",
    "\n",
    "**Example 1:**\n",
    "\n",
    "**Input:** nums1 = [5,3,4,2], nums2 = [4,2,2,5]\n",
    "\n",
    "**Output:** 40\n",
    "\n",
    "**Explanation:**\n",
    "\n",
    "We can rearrange nums1 to become [3,5,4,2]. The product sum of [3,5,4,2] and [4,2,2,5] is 3*4 + 5*2 + 4*2 + 2*5 = 40.\n",
    "\n",
    "</aside>"
   ]
  },
  {
   "cell_type": "code",
   "execution_count": 19,
   "id": "1b48b3ff",
   "metadata": {},
   "outputs": [
    {
     "name": "stdout",
     "output_type": "stream",
     "text": [
      "40\n"
     ]
    }
   ],
   "source": [
    "def minValue(A, B, n):\n",
    "    A.sort()\n",
    "    B.sort()\n",
    " \n",
    "    result = 0\n",
    "    for i in range(n):\n",
    "        result += (A[i] * B[n - i - 1])\n",
    " \n",
    "    return result\n",
    " \n",
    " \n",
    "A = [5,3,4,2]\n",
    "B = [4,2,2,5]\n",
    "n = len(A)\n",
    "print(minValue(A, B, n))"
   ]
  },
  {
   "cell_type": "markdown",
   "id": "0f742adb",
   "metadata": {},
   "source": [
    "<aside>\n",
    "💡 **Question 6**\n",
    "\n",
    "An integer array original is transformed into a **doubled** array changed by appending **twice the value** of every element in original, and then randomly **shuffling** the resulting array.\n",
    "\n",
    "Given an array changed, return original *if* changed *is a **doubled** array. If* changed *is not a **doubled** array, return an empty array. The elements in* original *may be returned in **any** order*.\n",
    "\n",
    "**Example 1:**\n",
    "\n",
    "**Input:** changed = [1,3,4,2,6,8]\n",
    "\n",
    "**Output:** [1,3,4]\n",
    "\n",
    "**Explanation:** One possible original array could be [1,3,4]:\n",
    "\n",
    "- Twice the value of 1 is 1 * 2 = 2.\n",
    "- Twice the value of 3 is 3 * 2 = 6.\n",
    "- Twice the value of 4 is 4 * 2 = 8.\n",
    "\n",
    "Other original arrays could be [4,3,1] or [3,1,4].\n",
    "\n",
    "</aside>"
   ]
  },
  {
   "cell_type": "code",
   "execution_count": 22,
   "id": "22cfadd8",
   "metadata": {},
   "outputs": [
    {
     "name": "stdout",
     "output_type": "stream",
     "text": [
      "[1, 3, 4]\n"
     ]
    }
   ],
   "source": [
    "import collections\n",
    "class Solution:\n",
    "    def findOriginalArray(self, changed):\n",
    "        if len(changed) % 2 == 1:\n",
    "            return []\n",
    "\n",
    "        original = []\n",
    "        numbers = collections.Counter(changed)\n",
    "        \n",
    "        for n in sorted(changed):\n",
    "            v = n*2\n",
    "            if numbers.get(n, 0) > 0 and numbers.get(v, 0) > 0:\n",
    "                original.append(n)\n",
    "                numbers[n] -= 1\n",
    "                numbers[v] -= 1\n",
    "            elif n // 2 not in numbers or n % 2 == 1:\n",
    "                return []\n",
    "\n",
    "        return original\n",
    "    \n",
    "solution = Solution()\n",
    "\n",
    "changed = [1, 3, 4, 2, 6, 8]\n",
    "print(solution.findOriginalArray(changed))"
   ]
  },
  {
   "cell_type": "markdown",
   "id": "0367108d",
   "metadata": {},
   "source": [
    "<aside>\n",
    "💡 **Question 7**\n",
    "\n",
    "Given a positive integer n, generate an n x n matrix filled with elements from 1 to n2 in spiral order.\n",
    "\n",
    "**Example 1:**\n",
    "\n",
    "</aside>\n",
    "\n",
    "**Input:** n = 3\n",
    "\n",
    "**Output:** [[1,2,3],[8,9,4],[7,6,5]]"
   ]
  },
  {
   "cell_type": "code",
   "execution_count": 24,
   "id": "ba03297d",
   "metadata": {},
   "outputs": [
    {
     "name": "stdout",
     "output_type": "stream",
     "text": [
      "[[1, 2, 3], (8, 9, 4), (7, 6, 5)]\n"
     ]
    }
   ],
   "source": [
    "class Solution:\n",
    "    def generateMatrix(self, n):\n",
    "        A = [[n * n]]\n",
    "        while A[0][0] > 1:\n",
    "            A = [list(range(A[0][0] - len(A), A[0][0]))] + list(zip(*A[::-1]))\n",
    "        return A * (n > 0)\n",
    "\n",
    "\n",
    "solution = Solution()\n",
    "\n",
    "n = 3\n",
    "print(solution.generateMatrix(n))"
   ]
  },
  {
   "cell_type": "markdown",
   "id": "374b7411",
   "metadata": {},
   "source": [
    "<aside>\n",
    "💡 **Question 8**\n",
    "\n",
    "Given two [sparse matrices](https://en.wikipedia.org/wiki/Sparse_matrix) mat1 of size m x k and mat2 of size k x n, return the result of mat1 x mat2. You may assume that multiplication is always possible.\n",
    "\n",
    "**Example 1:**\n",
    "\n",
    "</aside>\n",
    "\n",
    "**Input:** mat1 = [[1,0,0],[-1,0,3]], mat2 = [[7,0,0],[0,0,0],[0,0,1]]\n",
    "\n",
    "**Output:**\n",
    "\n",
    "[[7,0,0],[-7,0,3]]"
   ]
  },
  {
   "cell_type": "code",
   "execution_count": 25,
   "id": "24fd9476",
   "metadata": {},
   "outputs": [
    {
     "name": "stdout",
     "output_type": "stream",
     "text": [
      "[[7, 0, 0], [-7, 0, 3]]\n"
     ]
    }
   ],
   "source": [
    "class Solution:\n",
    "    def multiply(self, mat1, mat2):\n",
    "        r1, c1, c2 = len(mat1), len(mat1[0]), len(mat2[0])\n",
    "        res = [[0] * c2 for _ in range(r1)]\n",
    "        for i in range(r1):\n",
    "            for j in range(c2):\n",
    "                for k in range(c1):\n",
    "                    res[i][j] += mat1[i][k] * mat2[k][j]\n",
    "        return res\n",
    "    \n",
    "solution = Solution()\n",
    "\n",
    "mat1 = [[1,0,0],[-1,0,3]]\n",
    "mat2 = [[7,0,0],[0,0,0],[0,0,1]]\n",
    "print(solution.multiply(mat1, mat2))"
   ]
  }
 ],
 "metadata": {
  "kernelspec": {
   "display_name": "Python 3 (ipykernel)",
   "language": "python",
   "name": "python3"
  },
  "language_info": {
   "codemirror_mode": {
    "name": "ipython",
    "version": 3
   },
   "file_extension": ".py",
   "mimetype": "text/x-python",
   "name": "python",
   "nbconvert_exporter": "python",
   "pygments_lexer": "ipython3",
   "version": "3.9.13"
  }
 },
 "nbformat": 4,
 "nbformat_minor": 5
}
