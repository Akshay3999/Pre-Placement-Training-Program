{
 "cells": [
  {
   "cell_type": "markdown",
   "id": "83429478",
   "metadata": {},
   "source": [
    "Question 1\n",
    "Given an integer array nums of length n and an integer target, find three integers\n",
    "in nums such that the sum is closest to the target.\n",
    "Return the sum of the three integers.\n",
    "\n",
    "You may assume that each input would have exactly one solution.\n",
    "\n",
    "Example 1:\n",
    "Input: nums = [-1,2,1,-4], target = 1\n",
    "Output: 2\n",
    "\n",
    "Explanation: The sum that is closest to the target is 2. (-1 + 2 + 1 = 2)."
   ]
  },
  {
   "cell_type": "code",
   "execution_count": 1,
   "id": "19a2435a",
   "metadata": {},
   "outputs": [
    {
     "name": "stdout",
     "output_type": "stream",
     "text": [
      "2\n"
     ]
    }
   ],
   "source": [
    "class Solution:\n",
    "    # @return an integer\n",
    "    def threeSumClosest(self, num, target):\n",
    "        num.sort()\n",
    "        result = num[0] + num[1] + num[2]\n",
    "        for i in range(len(num) - 2):\n",
    "            j, k = i+1, len(num) - 1\n",
    "            while j < k:\n",
    "                sum = num[i] + num[j] + num[k]\n",
    "                if sum == target:\n",
    "                    return sum\n",
    "                \n",
    "                if abs(sum - target) < abs(result - target):\n",
    "                    result = sum\n",
    "                \n",
    "                if sum < target:\n",
    "                    j += 1\n",
    "                elif sum > target:\n",
    "                    k -= 1\n",
    "            \n",
    "        return result\n",
    "    \n",
    "solution = Solution()\n",
    "\n",
    "nums = [-1, 2, 1, -4]\n",
    "target = 1\n",
    "result = solution.threeSumClosest(nums, target)\n",
    "print(result)"
   ]
  },
  {
   "cell_type": "markdown",
   "id": "7d8cdc5b",
   "metadata": {},
   "source": [
    "Question 2\n",
    "Given an array nums of n integers, return an array of all the unique quadruplets\n",
    "[nums[a], nums[b], nums[c], nums[d]] such that:\n",
    "           ● 0 <= a, b, c, d < n\n",
    "           ● a, b, c, and d are distinct.\n",
    "           ● nums[a] + nums[b] + nums[c] + nums[d] == target\n",
    "\n",
    "You may return the answer in any order.\n",
    "\n",
    "Example 1:\n",
    "Input: nums = [1,0,-1,0,-2,2], target = 0\n",
    "Output: [[-2,-1,1,2],[-2,0,0,2],[-1,0,0,1]]"
   ]
  },
  {
   "cell_type": "code",
   "execution_count": 2,
   "id": "133bcbff",
   "metadata": {},
   "outputs": [
    {
     "name": "stdout",
     "output_type": "stream",
     "text": [
      "[(-2, -1, 1, 2), (-1, 0, 0, 1), (-2, 0, 0, 2)]\n"
     ]
    }
   ],
   "source": [
    "class Solution:\n",
    "    def fourSum(self, nums, target):\n",
    "        d = dict()\n",
    "        for i in range(len(nums)):\n",
    "            for j in range(i+1,len(nums)):\n",
    "                sum2 = nums[i]+nums[j]\n",
    "                if sum2 in d:\n",
    "                    d[sum2].append((i,j))\n",
    "                else:\n",
    "                    d[sum2] = [(i,j)]\n",
    "        \n",
    "        result = set()\n",
    "        for key in d:\n",
    "            value = target - key\n",
    "            if value in d:\n",
    "                list1 = d[key]\n",
    "                list2 = d[value]\n",
    "                for (i,j) in list1:\n",
    "                    for (k,l) in list2:\n",
    "                        if i!=k and i!=l and j!=k and j!=l:\n",
    "                            flist = [nums[i],nums[j],nums[k],nums[l]]\n",
    "                            flist.sort()\n",
    "                            result.add(tuple(flist))\n",
    "        return list(result)\n",
    "    \n",
    "solution = Solution()\n",
    "\n",
    "nums = [1, 0, -1, 0, -2, 2] \n",
    "target = 0\n",
    "result = solution.fourSum(nums, target)\n",
    "print(result)"
   ]
  },
  {
   "cell_type": "markdown",
   "id": "3b85466b",
   "metadata": {},
   "source": [
    "<aside>\n",
    "💡 **Question 3**\n",
    "A permutation of an array of integers is an arrangement of its members into a\n",
    "sequence or linear order.\n",
    "\n",
    "For example, for arr = [1,2,3], the following are all the permutations of arr:\n",
    "[1,2,3], [1,3,2], [2, 1, 3], [2, 3, 1], [3,1,2], [3,2,1].\n",
    "\n",
    "The next permutation of an array of integers is the next lexicographically greater\n",
    "permutation of its integer. More formally, if all the permutations of the array are\n",
    "sorted in one container according to their lexicographical order, then the next\n",
    "permutation of that array is the permutation that follows it in the sorted container.\n",
    "\n",
    "If such an arrangement is not possible, the array must be rearranged as the\n",
    "lowest possible order (i.e., sorted in ascending order).\n",
    "\n",
    "● For example, the next permutation of arr = [1,2,3] is [1,3,2].\n",
    "● Similarly, the next permutation of arr = [2,3,1] is [3,1,2].\n",
    "● While the next permutation of arr = [3,2,1] is [1,2,3] because [3,2,1] does not\n",
    "have a lexicographical larger rearrangement.\n",
    "\n",
    "Given an array of integers nums, find the next permutation of nums.\n",
    "The replacement must be in place and use only constant extra memory.\n",
    "\n",
    "**Example 1:**\n",
    "Input: nums = [1,2,3]\n",
    "Output: [1,3,2]\n",
    "\n",
    "</aside>"
   ]
  },
  {
   "cell_type": "code",
   "execution_count": 4,
   "id": "8aed1ca3",
   "metadata": {},
   "outputs": [
    {
     "name": "stdout",
     "output_type": "stream",
     "text": [
      "[1, 3, 2]\n"
     ]
    }
   ],
   "source": [
    "def nextPermutation(self):\n",
    "    i = j = len(nums)-1\n",
    "    while i > 0 and nums[i-1] >= nums[i]:\n",
    "        i -= 1\n",
    "    if i == 0:   # nums are in descending order\n",
    "        nums.reverse()\n",
    "        return \n",
    "    k = i - 1    # find the last \"ascending\" position\n",
    "    while nums[j] <= nums[k]:\n",
    "        j -= 1\n",
    "    nums[k], nums[j] = nums[j], nums[k]  \n",
    "    l, r = k+1, len(nums)-1  # reverse the second part\n",
    "    while l < r:\n",
    "        nums[l], nums[r] = nums[r], nums[l]\n",
    "        l +=1 ; r -= 1\n",
    "        \n",
    "\n",
    "nums = [1, 2, 3]\n",
    "result = nextPermutation(nums)\n",
    "print(nums)"
   ]
  },
  {
   "cell_type": "markdown",
   "id": "302afd38",
   "metadata": {},
   "source": [
    "Question 4\n",
    "Given a sorted array of distinct integers and a target value, return the index if the\n",
    "target is found. If not, return the index where it would be if it were inserted in\n",
    "order.\n",
    "\n",
    "You must write an algorithm with O(log n) runtime complexity.\n",
    "\n",
    "Example 1:\n",
    "Input: nums = [1,3,5,6], target = 5\n",
    "Output: 2"
   ]
  },
  {
   "cell_type": "code",
   "execution_count": 7,
   "id": "6de12153",
   "metadata": {},
   "outputs": [
    {
     "name": "stdout",
     "output_type": "stream",
     "text": [
      "2\n"
     ]
    }
   ],
   "source": [
    "class Solution:\n",
    "    def searchInsert(self, nums, target):\n",
    "        if not nums:\n",
    "            return 0\n",
    "        \n",
    "        for i, num in enumerate(nums):\n",
    "            if num >= target:\n",
    "                return i\n",
    "        \n",
    "        return len(nums)\n",
    "    \n",
    "solution = Solution()\n",
    "\n",
    "nums = [1, 3, 5, 6]\n",
    "target = 5 \n",
    "result = solution.searchInsert(nums, target)\n",
    "print(result)"
   ]
  },
  {
   "cell_type": "markdown",
   "id": "499d7722",
   "metadata": {},
   "source": [
    "<aside>\n",
    "💡 **Question 5**\n",
    "You are given a large integer represented as an integer array digits, where each\n",
    "digits[i] is the ith digit of the integer. The digits are ordered from most significant\n",
    "to least significant in left-to-right order. The large integer does not contain any\n",
    "leading 0's.\n",
    "\n",
    "Increment the large integer by one and return the resulting array of digits.\n",
    "\n",
    "**Example 1:**\n",
    "Input: digits = [1,2,3]\n",
    "Output: [1,2,4]\n",
    "\n",
    "**Explanation:** The array represents the integer 123.\n",
    "Incrementing by one gives 123 + 1 = 124.\n",
    "Thus, the result should be [1,2,4].\n",
    "\n",
    "</aside>"
   ]
  },
  {
   "cell_type": "code",
   "execution_count": 9,
   "id": "27d779c4",
   "metadata": {},
   "outputs": [
    {
     "name": "stdout",
     "output_type": "stream",
     "text": [
      "[1, 2, 4]\n"
     ]
    }
   ],
   "source": [
    "class Solution:\n",
    "    def plusOne(self, digits) :\n",
    "        if digits[-1] < 9:\n",
    "            digits[-1] += 1\n",
    "            return digits\n",
    "        elif len(digits) == 1 and digits[0] == 9:\n",
    "            return [1, 0]\n",
    "        else:\n",
    "            digits[-1] = 0\n",
    "            digits[0:-1] = self.plusOne(digits[0:-1])\n",
    "            return digits\n",
    "        \n",
    "solution = Solution()\n",
    "\n",
    "digits = [1, 2, 3]\n",
    "result = solution.plusOne(digits)\n",
    "print(result)"
   ]
  },
  {
   "cell_type": "markdown",
   "id": "0056097b",
   "metadata": {},
   "source": [
    "Question 6\n",
    "Given a non-empty array of integers nums, every element appears twice except\n",
    "for one. Find that single one.\n",
    "\n",
    "You must implement a solution with a linear runtime complexity and use only\n",
    "constant extra space.\n",
    "\n",
    "Example 1:\n",
    "Input: nums = [2,2,1]\n",
    "Output: 1"
   ]
  },
  {
   "cell_type": "code",
   "execution_count": 17,
   "id": "00b2d494",
   "metadata": {},
   "outputs": [
    {
     "name": "stdout",
     "output_type": "stream",
     "text": [
      "1\n"
     ]
    }
   ],
   "source": [
    "class Solution:\n",
    "    def singleNumber(self, nums) :\n",
    "        frequency={}\n",
    "        for i in nums:\n",
    "            if i not in frequency:\n",
    "                frequency[i]=1\n",
    "            else:\n",
    "                frequency[i]=frequency[i]+1\n",
    "\n",
    "        for i in frequency:\n",
    "            if frequency[i]==1:\n",
    "                return i\n",
    "            \n",
    "solution = Solution()\n",
    "\n",
    "nums = [2, 2, 1]\n",
    "result = solution.singleNumber(nums)\n",
    "print(result)"
   ]
  },
  {
   "cell_type": "markdown",
   "id": "9ad1d9cf",
   "metadata": {},
   "source": [
    "Question 7\n",
    "You are given an inclusive range [lower, upper] and a sorted unique integer array\n",
    "nums, where all elements are within the inclusive range.\n",
    "\n",
    "A number x is considered missing if x is in the range [lower, upper] and x is not in\n",
    "nums.\n",
    "\n",
    "Return the shortest sorted list of ranges that exactly covers all the missing\n",
    "numbers. That is, no element of nums is included in any of the ranges, and each\n",
    "missing number is covered by one of the ranges.\n",
    "\n",
    "Example 1:\n",
    "Input: nums = [0,1,3,50,75], lower = 0, upper = 99\n",
    "Output: [[2,2],[4,49],[51,74],[76,99]]\n",
    "\n",
    "Explanation: The ranges are:\n",
    "[2,2]\n",
    "[4,49]\n",
    "[51,74]\n",
    "[76,99]"
   ]
  },
  {
   "cell_type": "code",
   "execution_count": null,
   "id": "9ee7f852",
   "metadata": {},
   "outputs": [],
   "source": [
    "class Solution:\n",
    "    def findMissingRanges(self, nums: List[int], lower: int, upper: int) -> List[str]:\n",
    "        def f(a, b):\n",
    "            return str(a) if a == b else f'{a}->{b}'\n",
    "\n",
    "        n = len(nums)\n",
    "        if n == 0:\n",
    "            return [f(lower, upper)]\n",
    "        ans = []\n",
    "        if nums[0] > lower:\n",
    "            ans.append(f(lower, nums[0] - 1))\n",
    "        for a, b in pairwise(nums):\n",
    "            if b - a > 1:\n",
    "                ans.append(f(a + 1, b - 1))\n",
    "        if nums[-1] < upper:\n",
    "            ans.append(f(nums[-1] + 1, upper))\n",
    "        return ans\n",
    "\n",
    "    \n",
    "solution = Solution()\n",
    "\n",
    "nums = [0, 1, 3, 50, 75]\n",
    "lower = 0\n",
    "upper = 99\n",
    "result = solution.findMissingRanges(nums, lower, upper)\n",
    "print(result)"
   ]
  },
  {
   "cell_type": "markdown",
   "id": "8e5765d1",
   "metadata": {},
   "source": [
    "Question 8\n",
    "Given an array of meeting time intervals where intervals[i] = [starti, endi],\n",
    "determine if a person could attend all meetings.\n",
    "\n",
    "Example 1:\n",
    "Input: intervals = [[0,30],[5,10],[15,20]]\n",
    "Output: false"
   ]
  },
  {
   "cell_type": "code",
   "execution_count": 30,
   "id": "348b1683",
   "metadata": {},
   "outputs": [
    {
     "name": "stdout",
     "output_type": "stream",
     "text": [
      "False\n"
     ]
    }
   ],
   "source": [
    "def canAttendMeetings(self):\n",
    "        new_intervals = sorted(intervals, key=lambda x: x[0])\n",
    "        for i in range(1,len(new_intervals)):\n",
    "            if new_intervals[i-1][1] > new_intervals[i][0]:return False\n",
    "        return True\n",
    "    \n",
    "solution = Solution()\n",
    "\n",
    "intervals = [[0, 30], [5, 10], [15, 20]]\n",
    "result = canAttendMeetings(intervals)\n",
    "print(result) "
   ]
  }
 ],
 "metadata": {
  "kernelspec": {
   "display_name": "Python 3 (ipykernel)",
   "language": "python",
   "name": "python3"
  },
  "language_info": {
   "codemirror_mode": {
    "name": "ipython",
    "version": 3
   },
   "file_extension": ".py",
   "mimetype": "text/x-python",
   "name": "python",
   "nbconvert_exporter": "python",
   "pygments_lexer": "ipython3",
   "version": "3.9.13"
  }
 },
 "nbformat": 4,
 "nbformat_minor": 5
}
