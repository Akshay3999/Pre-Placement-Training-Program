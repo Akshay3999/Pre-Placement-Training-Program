{
 "cells": [
  {
   "cell_type": "markdown",
   "id": "922b0b49",
   "metadata": {},
   "source": [
    "<aside>\n",
    "💡 **Question 1**\n",
    "\n",
    "Given two strings s1 and s2, return *the lowest **ASCII** sum of deleted characters to make two strings equal*.\n",
    "\n",
    "**Example 1:**\n",
    "\n",
    "**Input:** s1 = \"sea\", s2 = \"eat\"\n",
    "\n",
    "**Output:** 231\n",
    "\n",
    "**Explanation:** Deleting \"s\" from \"sea\" adds the ASCII value of \"s\" (115) to the sum.\n",
    "\n",
    "Deleting \"t\" from \"eat\" adds 116 to the sum.\n",
    "\n",
    "At the end, both strings are equal, and 115 + 116 = 231 is the minimum sum possible to achieve this.\n",
    "\n",
    "</aside>"
   ]
  },
  {
   "cell_type": "code",
   "execution_count": 1,
   "id": "8aa9e718",
   "metadata": {},
   "outputs": [
    {
     "name": "stdout",
     "output_type": "stream",
     "text": [
      "231\n"
     ]
    }
   ],
   "source": [
    "def minimumDeleteSum(s1, s2):\n",
    "    memo = {}\n",
    "    return dfs(s1, s2, 0, 0, memo)\n",
    "\n",
    "def dfs(s1, s2, i, j, memo):\n",
    "    if (i, j) in memo:\n",
    "        return memo[(i, j)]\n",
    "    \n",
    "    if i == len(s1) and j == len(s2):\n",
    "        return 0\n",
    "    \n",
    "    if i == len(s1):\n",
    "        return sum(ord(ch) for ch in s2[j:])\n",
    "    \n",
    "    if j == len(s2):\n",
    "        return sum(ord(ch) for ch in s1[i:])\n",
    "    \n",
    "    if s1[i] == s2[j]:\n",
    "        memo[(i, j)] = dfs(s1, s2, i + 1, j + 1, memo)\n",
    "    else:\n",
    "        delete_s1 = ord(s1[i]) + dfs(s1, s2, i + 1, j, memo)\n",
    "        delete_s2 = ord(s2[j]) + dfs(s1, s2, i, j + 1, memo)\n",
    "        memo[(i, j)] = min(delete_s1, delete_s2)\n",
    "    \n",
    "    return memo[(i, j)]\n",
    "\n",
    "     \n",
    "\n",
    "s1 = \"sea\"\n",
    "s2 = \"eat\"\n",
    "print(minimumDeleteSum(s1, s2))"
   ]
  },
  {
   "cell_type": "markdown",
   "id": "92709c4d",
   "metadata": {},
   "source": [
    "<aside>\n",
    "💡 **Question 2**\n",
    "\n",
    "Given a string s containing only three types of characters: '(', ')' and '*', return true *if* s *is **valid***.\n",
    "\n",
    "The following rules define a **valid** string:\n",
    "\n",
    "- Any left parenthesis '(' must have a corresponding right parenthesis ')'.\n",
    "- Any right parenthesis ')' must have a corresponding left parenthesis '('.\n",
    "- Left parenthesis '(' must go before the corresponding right parenthesis ')'.\n",
    "- '*' could be treated as a single right parenthesis ')' or a single left parenthesis '(' or an empty string \"\".\n",
    "\n",
    "**Example 1:**\n",
    "\n",
    "**Input:** s = \"()\"\n",
    "\n",
    "**Output:**\n",
    "\n",
    "true\n",
    "\n",
    "</aside>"
   ]
  },
  {
   "cell_type": "code",
   "execution_count": 3,
   "id": "b3d3d61c",
   "metadata": {},
   "outputs": [
    {
     "name": "stdout",
     "output_type": "stream",
     "text": [
      "True\n"
     ]
    }
   ],
   "source": [
    "def checkValidString(self):\n",
    "        cmin = cmax = 0\n",
    "        for i in s:\n",
    "            if i == '(':\n",
    "                cmax += 1\n",
    "                cmin += 1\n",
    "            if i == ')':\n",
    "                cmax -= 1\n",
    "                cmin = max(cmin - 1, 0)\n",
    "            if i == '*':\n",
    "                cmax += 1\n",
    "                cmin = max(cmin - 1, 0)\n",
    "            if cmax < 0:\n",
    "                return False\n",
    "        return cmin == 0\n",
    "    \n",
    "s = \"()\"\n",
    "print(checkValidString(s))"
   ]
  },
  {
   "cell_type": "markdown",
   "id": "1bebdda3",
   "metadata": {},
   "source": [
    "<aside>\n",
    "💡 **Question 3**\n",
    "\n",
    "Given two strings word1 and word2, return *the minimum number of **steps** required to make* word1 *and* word2 *the same*.\n",
    "\n",
    "In one **step**, you can delete exactly one character in either string.\n",
    "\n",
    "**Example 1:**\n",
    "\n",
    "**Input:** word1 = \"sea\", word2 = \"eat\"\n",
    "\n",
    "**Output:** 2\n",
    "\n",
    "**Explanation:** You need one step to make \"sea\" to \"ea\" and another step to make \"eat\" to \"ea\".\n",
    "\n",
    "</aside>"
   ]
  },
  {
   "cell_type": "code",
   "execution_count": 11,
   "id": "fc773df0",
   "metadata": {},
   "outputs": [
    {
     "name": "stdout",
     "output_type": "stream",
     "text": [
      "2\n"
     ]
    }
   ],
   "source": [
    "class Solution:\n",
    "    def minDistance(self, word1, word2):\n",
    "        l1, l2 = len(word1), len(word2)\n",
    "        dp = [[0] * (l2 + 1) for i in range(l1 + 1)]\n",
    "        for i in range(l1):\n",
    "            for j in range(l2):\n",
    "                dp[i + 1][j + 1] = max(dp[i + 1][j], dp[i][j + 1])\n",
    "                if word1[i] == word2[j]:\n",
    "                    dp[i + 1][j + 1] = max(dp[i + 1][j + 1], dp[i][j] + 1)\n",
    "        return l1 + l2 - 2 * dp[l1][l2]\n",
    "\n",
    "solution = Solution()\n",
    "word1 = \"sea\"\n",
    "word2 = \"eat\"\n",
    "print(solution.minDistance(word1, word2))"
   ]
  },
  {
   "cell_type": "markdown",
   "id": "e246688f",
   "metadata": {},
   "source": [
    "<aside>\n",
    "💡 **Question 4**\n",
    "\n",
    "You need to construct a binary tree from a string consisting of parenthesis and integers.\n",
    "\n",
    "The whole input represents a binary tree. It contains an integer followed by zero, one or two pairs of parenthesis. The integer represents the root's value and a pair of parenthesis contains a child binary tree with the same structure.\n",
    "You always start to construct the **left** child node of the parent first if it exists.\n",
    "\n",
    "</aside>\n",
    "**Input:** s = \"4(2(3)(1))(6(5))\"\n",
    "\n",
    "**Output:** [4,2,6,3,1,5]"
   ]
  },
  {
   "cell_type": "code",
   "execution_count": null,
   "id": "cfdfcaf8",
   "metadata": {},
   "outputs": [],
   "source": []
  },
  {
   "cell_type": "markdown",
   "id": "6a6f9048",
   "metadata": {},
   "source": [
    "<aside>\n",
    "💡 **Question 5**\n",
    "\n",
    "Given an array of characters chars, compress it using the following algorithm:\n",
    "\n",
    "Begin with an empty string s. For each group of **consecutive repeating characters** in chars:\n",
    "\n",
    "- If the group's length is 1, append the character to s.\n",
    "- Otherwise, append the character followed by the group's length.\n",
    "\n",
    "The compressed string s **should not be returned separately**, but instead, be stored **in the input character array chars**. Note that group lengths that are 10 or longer will be split into multiple characters in chars.\n",
    "\n",
    "After you are done **modifying the input array,** return *the new length of the array*.\n",
    "\n",
    "You must write an algorithm that uses only constant extra space.\n",
    "\n",
    "**Example 1:**\n",
    "\n",
    "**Input:** chars = [\"a\",\"a\",\"b\",\"b\",\"c\",\"c\",\"c\"]\n",
    "\n",
    "**Output:** Return 6, and the first 6 characters of the input array should be: [\"a\",\"2\",\"b\",\"2\",\"c\",\"3\"]\n",
    "\n",
    "**Explanation:**\n",
    "\n",
    "The groups are \"aa\", \"bb\", and \"ccc\". This compresses to \"a2b2c3\".\n",
    "\n",
    "</aside>"
   ]
  },
  {
   "cell_type": "code",
   "execution_count": 21,
   "id": "f11f0ce6",
   "metadata": {},
   "outputs": [
    {
     "name": "stdout",
     "output_type": "stream",
     "text": [
      "14\n"
     ]
    }
   ],
   "source": [
    "def compress(self) -> int:\n",
    "    i = 0\n",
    "    while i < len(chars):\n",
    "        count = 0\n",
    "        for char in chars[i:]:\n",
    "            if char != chars[i]:\n",
    "                break\n",
    "                count += 1\n",
    "            if count != 1:\n",
    "                list_appending = list(str(count))\n",
    "                chars[i+1:i+count] = list_appending\n",
    "                i += 1 + len(list_appending)  \n",
    "            else:\n",
    "                i += 1\n",
    "            \n",
    "        return len(chars)\n",
    "    \n",
    "chars = [\"a\",\"a\",\"b\",\"b\",\"c\",\"c\",\"c\"]\n",
    "result = compress(chars)\n",
    "print(result)"
   ]
  },
  {
   "cell_type": "markdown",
   "id": "d774b80c",
   "metadata": {},
   "source": [
    "<aside>\n",
    "💡 **Question 6**\n",
    "\n",
    "Given two strings s and p, return *an array of all the start indices of* p*'s anagrams in* s. You may return the answer in **any order**.\n",
    "\n",
    "An **Anagram** is a word or phrase formed by rearranging the letters of a different word or phrase, typically using all the original letters exactly once.\n",
    "\n",
    "**Example 1:**\n",
    "\n",
    "**Input:** s = \"cbaebabacd\", p = \"abc\"\n",
    "\n",
    "**Output:** [0,6]\n",
    "\n",
    "**Explanation:**\n",
    "\n",
    "The substring with start index = 0 is \"cba\", which is an anagram of \"abc\".\n",
    "\n",
    "The substring with start index = 6 is \"bac\", which is an anagram of \"abc\".\n",
    "\n",
    "</aside>"
   ]
  },
  {
   "cell_type": "code",
   "execution_count": 18,
   "id": "eecf849f",
   "metadata": {},
   "outputs": [
    {
     "name": "stdout",
     "output_type": "stream",
     "text": [
      "[0, 6]\n"
     ]
    }
   ],
   "source": [
    "import collections\n",
    "class Solution:\n",
    "    def findAnagrams(self, s: str, p: str):\n",
    "        \n",
    "        myDictP=collections.Counter(p)\n",
    "        myDictS=collections.Counter(s[:len(p)])\n",
    "        output=[]\n",
    "        i=0\n",
    "        j=len(p)\n",
    "        \n",
    "        while j<=len(s):\n",
    "            if myDictS==myDictP:\n",
    "                output.append(i)\n",
    "\n",
    "            myDictS[s[i]]-=1\n",
    "            if myDictS[s[i]]<=0:\n",
    "                myDictS.pop(s[i])\n",
    "                \n",
    "            if j<len(s):    \n",
    "                 myDictS[s[j]]+=1\n",
    "            j+=1\n",
    "            i+=1\n",
    "            \n",
    "        return output    \n",
    "    \n",
    "solution = Solution()\n",
    "s = \"cbaebabacd\"\n",
    "p = \"abc\"\n",
    "indices = solution.findAnagrams(s, p)\n",
    "print(indices)"
   ]
  },
  {
   "cell_type": "markdown",
   "id": "64c9e6c4",
   "metadata": {},
   "source": [
    "<aside>\n",
    "💡 **Question 7**\n",
    "\n",
    "Given an encoded string, return its decoded string.\n",
    "\n",
    "The encoding rule is: k[encoded_string], where the encoded_string inside the square brackets is being repeated exactly k times. Note that k is guaranteed to be a positive integer.\n",
    "\n",
    "You may assume that the input string is always valid; there are no extra white spaces, square brackets are well-formed, etc. Furthermore, you may assume that the original data does not contain any digits and that digits are only for those repeat numbers, k. For example, there will not be input like 3a or 2[4].\n",
    "\n",
    "The test cases are generated so that the length of the output will never exceed 105.\n",
    "\n",
    "**Example 1:**\n",
    "\n",
    "**Input:** s = \"3[a]2[bc]\"\n",
    "\n",
    "**Output:** \"aaabcbc\"\n",
    "\n",
    "</aside>"
   ]
  },
  {
   "cell_type": "code",
   "execution_count": 16,
   "id": "87566dda",
   "metadata": {},
   "outputs": [
    {
     "name": "stdout",
     "output_type": "stream",
     "text": [
      "aaabcbc\n"
     ]
    }
   ],
   "source": [
    "def decodeString(self):\n",
    "        num = 0\n",
    "        string = ''\n",
    "        stack = []\n",
    "        for c in s:\n",
    "            if c.isdigit():\n",
    "                num = num*10 + int(c)\n",
    "            elif c == \"[\":\n",
    "                stack.append(string)\n",
    "                stack.append(num)\n",
    "                string = ''\n",
    "                num = 0\n",
    "            elif c.isalpha():\n",
    "                string += c\n",
    "            elif c == ']':\n",
    "                pre_num = stack.pop()\n",
    "                pre_string = stack.pop()\n",
    "                string = pre_string + pre_num * string\n",
    "        return string\n",
    "    \n",
    "s = \"3[a]2[bc]\"\n",
    "decoded_string = decodeString(s)\n",
    "print(decoded_string)"
   ]
  },
  {
   "cell_type": "markdown",
   "id": "dce0e88c",
   "metadata": {},
   "source": [
    "<aside>\n",
    "💡 **Question 8**\n",
    "\n",
    "Given two strings s and goal, return true *if you can swap two letters in* s *so the result is equal to* goal*, otherwise, return* false*.*\n",
    "\n",
    "Swapping letters is defined as taking two indices i and j (0-indexed) such that i != j and swapping the characters at s[i] and s[j].\n",
    "\n",
    "- For example, swapping at indices 0 and 2 in \"abcd\" results in \"cbad\".\n",
    "\n",
    "**Example 1:**\n",
    "\n",
    "**Input:** s = \"ab\", goal = \"ba\"\n",
    "\n",
    "**Output:** true\n",
    "\n",
    "**Explanation:** You can swap s[0] = 'a' and s[1] = 'b' to get \"ba\", which is equal to goal.\n",
    "\n",
    "</aside>"
   ]
  },
  {
   "cell_type": "code",
   "execution_count": 14,
   "id": "e72a3312",
   "metadata": {},
   "outputs": [
    {
     "name": "stdout",
     "output_type": "stream",
     "text": [
      "True\n"
     ]
    }
   ],
   "source": [
    "class Solution:\n",
    "    def buddyStrings(self, A, B):\n",
    "        if len(A) != len(B) or set(A) != set(B): return False       \n",
    "        if A == B:\n",
    "            return len(A) - len(set(A)) >= 1\n",
    "        else:     \n",
    "            indices = []\n",
    "            counter = 0\n",
    "            for i in range(len(A)):\n",
    "                if A[i] != B[i]:\n",
    "                    counter += 1\n",
    "                    indices.append(i)       \n",
    "                if counter > 2:\n",
    "                    return False       \n",
    "            return A[indices[0]] == B[indices[1]] and A[indices[1]] == B[indices[0]]\n",
    "        \n",
    "solution = Solution()\n",
    "s = \"ab\"\n",
    "goal = \"ba\"\n",
    "result = solution.buddyStrings(s, goal)\n",
    "print(result)"
   ]
  }
 ],
 "metadata": {
  "kernelspec": {
   "display_name": "Python 3 (ipykernel)",
   "language": "python",
   "name": "python3"
  },
  "language_info": {
   "codemirror_mode": {
    "name": "ipython",
    "version": 3
   },
   "file_extension": ".py",
   "mimetype": "text/x-python",
   "name": "python",
   "nbconvert_exporter": "python",
   "pygments_lexer": "ipython3",
   "version": "3.9.13"
  }
 },
 "nbformat": 4,
 "nbformat_minor": 5
}
